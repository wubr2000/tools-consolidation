{
 "cells": [
  {
   "cell_type": "code",
   "execution_count": 1,
   "metadata": {
    "collapsed": true
   },
   "outputs": [],
   "source": [
    "import re\n",
    "import unicodedata\n",
    "from math import sqrt"
   ]
  },
  {
   "cell_type": "code",
   "execution_count": 2,
   "metadata": {
    "collapsed": true
   },
   "outputs": [],
   "source": [
    "def preprocess(text):\n",
    "    # convert to ASCII\n",
    "    if isinstance(text, unicode):\n",
    "        text = unicodedata.normalize('NFKD', text).encode('ascii', 'ignore')\n",
    "    # if the input is HTML, force-add full stops after these tags\n",
    "    fullStopTags = ['li', 'p', 'h1', 'h2', 'h3', 'h4', 'h5', 'h6', 'dd']\n",
    "    for tag in fullStopTags:\n",
    "        text = re.sub(r'</'+tag+'>', '.', text)\n",
    "    text = re.sub(r'<[^>]+>', '', text)                  # strip out HTML\n",
    "    text = re.sub(r'[,:;()\\-]', ' ', text)               # replace commas, hyphens etc (count as spaces)\n",
    "    text = re.sub(r'[\\.!?]', '.', text)                  # unify terminators\n",
    "    text = re.sub(r'^\\s+', '', text)                     # strip leading whitespace\n",
    "    text = re.sub(r'[ ]*(\\n|\\r\\n|\\r)[ ]*', ' ', text)    # replace new lines with spaces\n",
    "    text = re.sub(r'([\\.])[\\. ]+', '.', text)            # check for duplicated terminators\n",
    "    text = re.sub(r'[ ]*([\\.])', '. ', text)             # pad sentence terminators\n",
    "    text = re.sub(r'\\s+', ' ', text)                     # remove multiple spaces\n",
    "    text = re.sub(r'\\s+$', '', text);                    # strip trailing whitespace\n",
    "    return text"
   ]
  },
  {
   "cell_type": "code",
   "execution_count": 3,
   "metadata": {
    "collapsed": true
   },
   "outputs": [],
   "source": [
    "def letter_count(text):\n",
    "    \"\"\" Gives letter count (ignores non-letters). \"\"\"\n",
    "    text = preprocess(text)\n",
    "    newText = re.sub(r'[^A-Za-z]+', '', text)\n",
    "    return len(newText)"
   ]
  },
  {
   "cell_type": "code",
   "execution_count": 4,
   "metadata": {
    "collapsed": true
   },
   "outputs": [],
   "source": [
    "def sentence_count(text):\n",
    "    text = preprocess(text)\n",
    "    # note: might be tripped up by honorifics and abbreviations\n",
    "    return max(1, len(re.sub(r'[^\\.!?]', '', text)))"
   ]
  },
  {
   "cell_type": "code",
   "execution_count": 5,
   "metadata": {
    "collapsed": true
   },
   "outputs": [],
   "source": [
    "def word_count(text):\n",
    "    text = preprocess(text)\n",
    "    return 1 + len(re.sub(r'[^ ]', '', text)) # space count + 1 is word count"
   ]
  },
  {
   "cell_type": "code",
   "execution_count": 8,
   "metadata": {
    "collapsed": true
   },
   "outputs": [],
   "source": [
    "def avg_words_per_sentence(text):\n",
    "    text = preprocess(text)\n",
    "    return 1.0 * word_count(text) / sentence_count(text)"
   ]
  },
  {
   "cell_type": "code",
   "execution_count": 9,
   "metadata": {
    "collapsed": true
   },
   "outputs": [],
   "source": [
    "def total_syllables(text):\n",
    "    text = preprocess(text)\n",
    "    words = text.split()\n",
    "    return sum([syllable_count(w) for w in words])"
   ]
  },
  {
   "cell_type": "code",
   "execution_count": 10,
   "metadata": {
    "collapsed": true
   },
   "outputs": [],
   "source": [
    "def avg_syllables_per_word(text):\n",
    "    text = preprocess(text)\n",
    "    num_words = word_count(text)\n",
    "    words = text.split()\n",
    "    num_syllables = sum([syllable_count(w) for w in words])\n",
    "    return 1.0 * num_syllables / num_words"
   ]
  },
  {
   "cell_type": "code",
   "execution_count": 12,
   "metadata": {
    "collapsed": true
   },
   "outputs": [],
   "source": [
    "def six_letter_word_count(text, use_proper_nouns = True):\n",
    "    text = preprocess(text)\n",
    "    num_long_words = 0;\n",
    "    num_words = word_count(text)\n",
    "    words = text.split()\n",
    "    for word in words:\n",
    "        if len(word) >= 6:\n",
    "            if use_proper_nouns or word[:1].islower():\n",
    "                num_long_words += 1\n",
    "    return num_long_words"
   ]
  },
  {
   "cell_type": "code",
   "execution_count": 13,
   "metadata": {
    "collapsed": true
   },
   "outputs": [],
   "source": [
    "def three_syllable_word_count(text, use_proper_nouns = True):\n",
    "    text = preprocess(text)\n",
    "    num_long_words = 0;\n",
    "    num_words = word_count(text)\n",
    "    words = text.split()\n",
    "    for word in words:\n",
    "        if syllable_count(word) >= 3:\n",
    "            if use_proper_nouns or word[:1].islower():\n",
    "                num_long_words += 1\n",
    "    return num_long_words"
   ]
  },
  {
   "cell_type": "code",
   "execution_count": 14,
   "metadata": {
    "collapsed": true
   },
   "outputs": [],
   "source": [
    "def percent_three_syllable_words(text, use_proper_nouns = True):\n",
    "    text = preprocess(text)\n",
    "    return 100.0 * three_syllable_word_count(text, use_proper_nouns) / word_count(text)"
   ]
  },
  {
   "cell_type": "code",
   "execution_count": 15,
   "metadata": {
    "collapsed": true
   },
   "outputs": [],
   "source": [
    "def syllable_count(word):\n",
    "    \"\"\" Pretty good heuristic: treat consecutive vowel strings as syllables. \"\"\"\n",
    "    word = word.lower()\n",
    "    # remove non-alphanumeric characters\n",
    "    word = re.sub(r'[^a-z]', '', word)\n",
    "    word_bits = re.split(r'[^aeiouy]+', word)\n",
    "    num_bits = 0\n",
    "    for wb in word_bits:\n",
    "        if wb != '':\n",
    "            num_bits += 1\n",
    "    return max(1, num_bits)"
   ]
  },
  {
   "cell_type": "code",
   "execution_count": null,
   "metadata": {
    "collapsed": true
   },
   "outputs": [],
   "source": []
  },
  {
   "cell_type": "code",
   "execution_count": null,
   "metadata": {
    "collapsed": true
   },
   "outputs": [],
   "source": []
  },
  {
   "cell_type": "code",
   "execution_count": null,
   "metadata": {
    "collapsed": true
   },
   "outputs": [],
   "source": []
  },
  {
   "cell_type": "code",
   "execution_count": null,
   "metadata": {
    "collapsed": true
   },
   "outputs": [],
   "source": []
  }
 ],
 "metadata": {
  "kernelspec": {
   "display_name": "Python 2",
   "language": "python",
   "name": "python2"
  },
  "language_info": {
   "codemirror_mode": {
    "name": "ipython",
    "version": 2
   },
   "file_extension": ".py",
   "mimetype": "text/x-python",
   "name": "python",
   "nbconvert_exporter": "python",
   "pygments_lexer": "ipython2",
   "version": "2.7.12"
  }
 },
 "nbformat": 4,
 "nbformat_minor": 0
}
