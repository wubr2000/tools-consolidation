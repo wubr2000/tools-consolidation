{
 "cells": [
  {
   "cell_type": "code",
   "execution_count": 9,
   "metadata": {
    "collapsed": false
   },
   "outputs": [
    {
     "name": "stdout",
     "output_type": "stream",
     "text": [
      "Populating the interactive namespace from numpy and matplotlib\n"
     ]
    }
   ],
   "source": [
    "%pylab inline\n",
    "import pandas as pd\n",
    "import numpy as np\n",
    "import scipy as sp\n",
    "from pandas.io.json import json_normalize\n",
    "import json\n",
    "from datetime import date, timedelta\n",
    "from time import time\n",
    "\n",
    "import matplotlib.pyplot as plt\n",
    "import seaborn as sns\n",
    "\n",
    "from sklearn.linear_model import LogisticRegression\n",
    "from sklearn import metrics \n",
    "from sklearn.cross_validation import KFold, StratifiedKFold \n",
    "from sklearn import cross_validation\n",
    "\n",
    "\n",
    "import warnings\n",
    "warnings.filterwarnings('ignore');"
   ]
  },
  {
   "cell_type": "code",
   "execution_count": 487,
   "metadata": {
    "collapsed": false
   },
   "outputs": [],
   "source": [
    "raw_df = pd.read_csv('dataset.csv')"
   ]
  },
  {
   "cell_type": "code",
   "execution_count": 488,
   "metadata": {
    "collapsed": false
   },
   "outputs": [
    {
     "data": {
      "text/html": [
       "<div>\n",
       "<table border=\"1\" class=\"dataframe\">\n",
       "  <thead>\n",
       "    <tr style=\"text-align: right;\">\n",
       "      <th></th>\n",
       "      <th>a_0</th>\n",
       "      <th>a_1</th>\n",
       "      <th>a_2</th>\n",
       "      <th>a_3</th>\n",
       "      <th>a_4</th>\n",
       "      <th>a_5</th>\n",
       "      <th>a_6</th>\n",
       "      <th>a_7</th>\n",
       "      <th>a_8</th>\n",
       "      <th>a_9</th>\n",
       "      <th>...</th>\n",
       "      <th>a_53</th>\n",
       "      <th>a_54</th>\n",
       "      <th>a_55</th>\n",
       "      <th>a_56</th>\n",
       "      <th>a_57</th>\n",
       "      <th>a_58</th>\n",
       "      <th>a_59</th>\n",
       "      <th>a_60</th>\n",
       "      <th>a_61</th>\n",
       "      <th>Target</th>\n",
       "    </tr>\n",
       "  </thead>\n",
       "  <tbody>\n",
       "    <tr>\n",
       "      <th>0</th>\n",
       "      <td>3.0</td>\n",
       "      <td>2.0</td>\n",
       "      <td>3.0</td>\n",
       "      <td>0.0</td>\n",
       "      <td>613</td>\n",
       "      <td>3.0</td>\n",
       "      <td>0.0</td>\n",
       "      <td>22.0</td>\n",
       "      <td>0.0</td>\n",
       "      <td>65.200000</td>\n",
       "      <td>...</td>\n",
       "      <td>988.795182</td>\n",
       "      <td>212450.84</td>\n",
       "      <td>449.0</td>\n",
       "      <td>55417.85</td>\n",
       "      <td>133.0</td>\n",
       "      <td>225091.48</td>\n",
       "      <td>1270.0</td>\n",
       "      <td>78912.84</td>\n",
       "      <td>424.0</td>\n",
       "      <td>True</td>\n",
       "    </tr>\n",
       "    <tr>\n",
       "      <th>1</th>\n",
       "      <td>0.0</td>\n",
       "      <td>0.0</td>\n",
       "      <td>0.0</td>\n",
       "      <td>0.0</td>\n",
       "      <td>735</td>\n",
       "      <td>0.0</td>\n",
       "      <td>0.0</td>\n",
       "      <td>32.0</td>\n",
       "      <td>0.0</td>\n",
       "      <td>291.000000</td>\n",
       "      <td>...</td>\n",
       "      <td>663.370531</td>\n",
       "      <td>24593.29</td>\n",
       "      <td>122.0</td>\n",
       "      <td>10034.06</td>\n",
       "      <td>49.0</td>\n",
       "      <td>23253.25</td>\n",
       "      <td>78.0</td>\n",
       "      <td>9841.76</td>\n",
       "      <td>34.0</td>\n",
       "      <td>False</td>\n",
       "    </tr>\n",
       "    <tr>\n",
       "      <th>2</th>\n",
       "      <td>0.0</td>\n",
       "      <td>0.0</td>\n",
       "      <td>0.0</td>\n",
       "      <td>0.0</td>\n",
       "      <td>835</td>\n",
       "      <td>0.0</td>\n",
       "      <td>16296.0</td>\n",
       "      <td>947.0</td>\n",
       "      <td>0.0</td>\n",
       "      <td>356.733333</td>\n",
       "      <td>...</td>\n",
       "      <td>7649.520830</td>\n",
       "      <td>116966.75</td>\n",
       "      <td>35.0</td>\n",
       "      <td>46832.77</td>\n",
       "      <td>12.0</td>\n",
       "      <td>174258.51</td>\n",
       "      <td>285.0</td>\n",
       "      <td>52581.96</td>\n",
       "      <td>104.0</td>\n",
       "      <td>False</td>\n",
       "    </tr>\n",
       "    <tr>\n",
       "      <th>3</th>\n",
       "      <td>9.0</td>\n",
       "      <td>8.0</td>\n",
       "      <td>16.0</td>\n",
       "      <td>0.0</td>\n",
       "      <td>659</td>\n",
       "      <td>5.0</td>\n",
       "      <td>0.0</td>\n",
       "      <td>192.0</td>\n",
       "      <td>1.0</td>\n",
       "      <td>370.700000</td>\n",
       "      <td>...</td>\n",
       "      <td>941.660487</td>\n",
       "      <td>12781.87</td>\n",
       "      <td>31.0</td>\n",
       "      <td>5685.00</td>\n",
       "      <td>9.0</td>\n",
       "      <td>12938.37</td>\n",
       "      <td>55.0</td>\n",
       "      <td>5704.71</td>\n",
       "      <td>21.0</td>\n",
       "      <td>False</td>\n",
       "    </tr>\n",
       "    <tr>\n",
       "      <th>4</th>\n",
       "      <td>0.0</td>\n",
       "      <td>0.0</td>\n",
       "      <td>22.0</td>\n",
       "      <td>0.0</td>\n",
       "      <td>612</td>\n",
       "      <td>3.0</td>\n",
       "      <td>118443.0</td>\n",
       "      <td>3191.0</td>\n",
       "      <td>1.0</td>\n",
       "      <td>226.633333</td>\n",
       "      <td>...</td>\n",
       "      <td>7927.986524</td>\n",
       "      <td>177633.34</td>\n",
       "      <td>9.0</td>\n",
       "      <td>15800.00</td>\n",
       "      <td>2.0</td>\n",
       "      <td>202820.51</td>\n",
       "      <td>53.0</td>\n",
       "      <td>22405.25</td>\n",
       "      <td>15.0</td>\n",
       "      <td>False</td>\n",
       "    </tr>\n",
       "  </tbody>\n",
       "</table>\n",
       "<p>5 rows × 63 columns</p>\n",
       "</div>"
      ],
      "text/plain": [
       "   a_0  a_1   a_2  a_3  a_4  a_5       a_6     a_7  a_8         a_9   ...    \\\n",
       "0  3.0  2.0   3.0  0.0  613  3.0       0.0    22.0  0.0   65.200000   ...     \n",
       "1  0.0  0.0   0.0  0.0  735  0.0       0.0    32.0  0.0  291.000000   ...     \n",
       "2  0.0  0.0   0.0  0.0  835  0.0   16296.0   947.0  0.0  356.733333   ...     \n",
       "3  9.0  8.0  16.0  0.0  659  5.0       0.0   192.0  1.0  370.700000   ...     \n",
       "4  0.0  0.0  22.0  0.0  612  3.0  118443.0  3191.0  1.0  226.633333   ...     \n",
       "\n",
       "          a_53       a_54   a_55      a_56   a_57       a_58    a_59  \\\n",
       "0   988.795182  212450.84  449.0  55417.85  133.0  225091.48  1270.0   \n",
       "1   663.370531   24593.29  122.0  10034.06   49.0   23253.25    78.0   \n",
       "2  7649.520830  116966.75   35.0  46832.77   12.0  174258.51   285.0   \n",
       "3   941.660487   12781.87   31.0   5685.00    9.0   12938.37    55.0   \n",
       "4  7927.986524  177633.34    9.0  15800.00    2.0  202820.51    53.0   \n",
       "\n",
       "       a_60   a_61  Target  \n",
       "0  78912.84  424.0    True  \n",
       "1   9841.76   34.0   False  \n",
       "2  52581.96  104.0   False  \n",
       "3   5704.71   21.0   False  \n",
       "4  22405.25   15.0   False  \n",
       "\n",
       "[5 rows x 63 columns]"
      ]
     },
     "execution_count": 488,
     "metadata": {},
     "output_type": "execute_result"
    }
   ],
   "source": [
    "raw_df.head()"
   ]
  },
  {
   "cell_type": "code",
   "execution_count": 489,
   "metadata": {
    "collapsed": false
   },
   "outputs": [
    {
     "data": {
      "text/plain": [
       "(10000, 63)"
      ]
     },
     "execution_count": 489,
     "metadata": {},
     "output_type": "execute_result"
    }
   ],
   "source": [
    "raw_df.shape"
   ]
  },
  {
   "cell_type": "code",
   "execution_count": null,
   "metadata": {
    "collapsed": false,
    "scrolled": false
   },
   "outputs": [],
   "source": []
  },
  {
   "cell_type": "markdown",
   "metadata": {},
   "source": [
    "### Check Missing Values"
   ]
  },
  {
   "cell_type": "code",
   "execution_count": 490,
   "metadata": {
    "collapsed": false
   },
   "outputs": [
    {
     "data": {
      "text/plain": [
       "array([57])"
      ]
     },
     "execution_count": 490,
     "metadata": {},
     "output_type": "execute_result"
    }
   ],
   "source": [
    "#Column 57 (a_57) has null values.\n",
    "unique(np.where(pd.isnull(raw_df))[1])"
   ]
  },
  {
   "cell_type": "code",
   "execution_count": 491,
   "metadata": {
    "collapsed": false
   },
   "outputs": [],
   "source": [
    "#Will just replace nulls with mean of that column for now absence of knowing anything about that\n",
    "# raw_df.a_57 = raw_df.a_57.fillna(raw_df.a_57.mean)\n",
    "raw_df.a_57 = np.where(np.isnan(raw_df.a_57), mean(raw_df.a_57), raw_df.a_57)"
   ]
  },
  {
   "cell_type": "code",
   "execution_count": 492,
   "metadata": {
    "collapsed": false
   },
   "outputs": [
    {
     "data": {
      "text/plain": [
       "0"
      ]
     },
     "execution_count": 492,
     "metadata": {},
     "output_type": "execute_result"
    }
   ],
   "source": [
    "pd.isnull(raw_df).sum().sum()"
   ]
  },
  {
   "cell_type": "markdown",
   "metadata": {},
   "source": [
    "### Columns With Categorical Dummy Variables"
   ]
  },
  {
   "cell_type": "code",
   "execution_count": 493,
   "metadata": {
    "collapsed": false
   },
   "outputs": [
    {
     "name": "stdout",
     "output_type": "stream",
     "text": [
      "a_8 [ 0.  1.]\n",
      "a_15 [ 0.  1.]\n",
      "a_16 [ 0.  1.]\n",
      "a_20 [0 1]\n",
      "a_21 [0 1]\n",
      "a_22 [0 1]\n",
      "a_23 [0 1]\n",
      "a_24 [0 1]\n",
      "a_25 [0 1]\n",
      "a_26 [0 1]\n",
      "a_27 [0 1]\n",
      "a_28 [0 1]\n",
      "a_29 [0 1]\n",
      "a_30 [0 1]\n",
      "a_31 [0 1]\n",
      "a_32 [0 1]\n",
      "a_33 [0 1]\n",
      "a_34 [0 1]\n",
      "a_35 [0 1]\n",
      "a_36 [0 1]\n",
      "a_37 [0 1]\n",
      "a_38 [0 1]\n",
      "a_39 [0 1]\n",
      "a_40 [0 1]\n",
      "a_41 [0 1]\n",
      "a_42 [0 1]\n"
     ]
    }
   ],
   "source": [
    "categorical_variables = []\n",
    "for col in raw_df.columns[:-1]:\n",
    "    if len(unique(raw_df[col])) == 2:\n",
    "        print col, unique(raw_df[col])\n",
    "        categorical_variables.append(col)"
   ]
  },
  {
   "cell_type": "code",
   "execution_count": 494,
   "metadata": {
    "collapsed": true
   },
   "outputs": [],
   "source": [
    "categorical_df = raw_df[categorical_variables]"
   ]
  },
  {
   "cell_type": "code",
   "execution_count": 495,
   "metadata": {
    "collapsed": true
   },
   "outputs": [],
   "source": [
    "dropped_categorical_df = raw_df.drop(categorical_variables, axis = 1)"
   ]
  },
  {
   "cell_type": "code",
   "execution_count": 496,
   "metadata": {
    "collapsed": false
   },
   "outputs": [
    {
     "data": {
      "text/plain": [
       "(10000, 37)"
      ]
     },
     "execution_count": 496,
     "metadata": {},
     "output_type": "execute_result"
    }
   ],
   "source": [
    "dropped_categorical_df.shape"
   ]
  },
  {
   "cell_type": "code",
   "execution_count": null,
   "metadata": {
    "collapsed": true
   },
   "outputs": [],
   "source": []
  },
  {
   "cell_type": "markdown",
   "metadata": {},
   "source": [
    "### Remove Outliers"
   ]
  },
  {
   "cell_type": "code",
   "execution_count": 497,
   "metadata": {
    "collapsed": false
   },
   "outputs": [],
   "source": [
    "def is_outlier_mean(data, m = 3):\n",
    "    return abs(data - np.mean(data)) > m * np.std(data)"
   ]
  },
  {
   "cell_type": "code",
   "execution_count": 498,
   "metadata": {
    "collapsed": false
   },
   "outputs": [],
   "source": [
    "rows_with_outliers = []\n",
    "for col in dropped_categorical_df.columns[:-1]:\n",
    "    rows_with_outliers.append(np.where(is_outlier_mean(raw_df[col])))\n",
    "    \n",
    "outlier_rows = list(unique([item for sublist in [row[0] for row in rows_with_outliers] for item in sublist]))"
   ]
  },
  {
   "cell_type": "code",
   "execution_count": 499,
   "metadata": {
    "collapsed": false
   },
   "outputs": [],
   "source": [
    "removed_outliers_df = pd.DataFrame()\n",
    "removed_outliers_df = dropped_categorical_df.drop(dropped_categorical_df.index[outlier_rows])"
   ]
  },
  {
   "cell_type": "code",
   "execution_count": 500,
   "metadata": {
    "collapsed": false
   },
   "outputs": [
    {
     "data": {
      "text/plain": [
       "(7604, 37)"
      ]
     },
     "execution_count": 500,
     "metadata": {},
     "output_type": "execute_result"
    }
   ],
   "source": [
    "removed_outliers_df.shape"
   ]
  },
  {
   "cell_type": "code",
   "execution_count": 501,
   "metadata": {
    "collapsed": false
   },
   "outputs": [
    {
     "data": {
      "text/plain": [
       "0"
      ]
     },
     "execution_count": 501,
     "metadata": {},
     "output_type": "execute_result"
    }
   ],
   "source": [
    "pd.isnull(removed_outliers_df).sum().sum()"
   ]
  },
  {
   "cell_type": "markdown",
   "metadata": {},
   "source": [
    "### Standardize Numeric Features"
   ]
  },
  {
   "cell_type": "code",
   "execution_count": 502,
   "metadata": {
    "collapsed": true
   },
   "outputs": [],
   "source": [
    "#Standardize \n",
    "standardize_numeric_features = removed_outliers_df.columns[:-1]"
   ]
  },
  {
   "cell_type": "code",
   "execution_count": 503,
   "metadata": {
    "collapsed": true
   },
   "outputs": [],
   "source": [
    "mean_sd_numeric_features_from_model = dict()\n",
    "\n",
    "for feature in standardize_numeric_features:\n",
    "    mean_sd_numeric_features_from_model[feature] = (removed_outliers_df[feature].mean(), removed_outliers_df[feature].std(ddof=0))"
   ]
  },
  {
   "cell_type": "code",
   "execution_count": 504,
   "metadata": {
    "collapsed": false
   },
   "outputs": [],
   "source": [
    "final_df = pd.DataFrame()\n",
    "for feature in standardize_numeric_features:\n",
    "    final_df[feature] = (removed_outliers_df[feature] - mean_sd_numeric_features_from_model[feature][0]) / mean_sd_numeric_features_from_model[feature][1]"
   ]
  },
  {
   "cell_type": "code",
   "execution_count": 505,
   "metadata": {
    "collapsed": false
   },
   "outputs": [
    {
     "data": {
      "text/plain": [
       "7604"
      ]
     },
     "execution_count": 505,
     "metadata": {},
     "output_type": "execute_result"
    }
   ],
   "source": [
    "pd.isnull(final_df).sum().sum()"
   ]
  },
  {
   "cell_type": "code",
   "execution_count": 506,
   "metadata": {
    "collapsed": false
   },
   "outputs": [],
   "source": [
    "# final_df.insert(0, 'Target', np.where(removed_outliers_df.Target,1,0))"
   ]
  },
  {
   "cell_type": "code",
   "execution_count": 507,
   "metadata": {
    "collapsed": false,
    "scrolled": false
   },
   "outputs": [
    {
     "data": {
      "text/html": [
       "<div>\n",
       "<table border=\"1\" class=\"dataframe\">\n",
       "  <thead>\n",
       "    <tr style=\"text-align: right;\">\n",
       "      <th></th>\n",
       "      <th>a_0</th>\n",
       "      <th>a_1</th>\n",
       "      <th>a_2</th>\n",
       "      <th>a_3</th>\n",
       "      <th>a_4</th>\n",
       "      <th>a_5</th>\n",
       "      <th>a_6</th>\n",
       "      <th>a_7</th>\n",
       "      <th>a_9</th>\n",
       "      <th>a_10</th>\n",
       "      <th>...</th>\n",
       "      <th>a_52</th>\n",
       "      <th>a_53</th>\n",
       "      <th>a_54</th>\n",
       "      <th>a_55</th>\n",
       "      <th>a_56</th>\n",
       "      <th>a_57</th>\n",
       "      <th>a_58</th>\n",
       "      <th>a_59</th>\n",
       "      <th>a_60</th>\n",
       "      <th>a_61</th>\n",
       "    </tr>\n",
       "  </thead>\n",
       "  <tbody>\n",
       "    <tr>\n",
       "      <th>0</th>\n",
       "      <td>-0.294184</td>\n",
       "      <td>-0.129407</td>\n",
       "      <td>-0.313258</td>\n",
       "      <td>NaN</td>\n",
       "      <td>-0.565572</td>\n",
       "      <td>0.192619</td>\n",
       "      <td>-0.836136</td>\n",
       "      <td>-0.993984</td>\n",
       "      <td>-1.411903</td>\n",
       "      <td>-1.102394</td>\n",
       "      <td>...</td>\n",
       "      <td>-0.491241</td>\n",
       "      <td>-0.488687</td>\n",
       "      <td>0.630743</td>\n",
       "      <td>3.927769</td>\n",
       "      <td>0.289888</td>\n",
       "      <td>2.960123</td>\n",
       "      <td>0.685031</td>\n",
       "      <td>3.400778</td>\n",
       "      <td>0.658645</td>\n",
       "      <td>3.000198</td>\n",
       "    </tr>\n",
       "    <tr>\n",
       "      <th>1</th>\n",
       "      <td>-0.713566</td>\n",
       "      <td>-0.650047</td>\n",
       "      <td>-0.567060</td>\n",
       "      <td>NaN</td>\n",
       "      <td>1.244543</td>\n",
       "      <td>-0.854826</td>\n",
       "      <td>-0.836136</td>\n",
       "      <td>-0.982091</td>\n",
       "      <td>1.126091</td>\n",
       "      <td>-0.613427</td>\n",
       "      <td>...</td>\n",
       "      <td>-0.473443</td>\n",
       "      <td>-0.549593</td>\n",
       "      <td>-0.445341</td>\n",
       "      <td>0.384542</td>\n",
       "      <td>-0.403439</td>\n",
       "      <td>0.493889</td>\n",
       "      <td>-0.454846</td>\n",
       "      <td>-0.722220</td>\n",
       "      <td>-0.420471</td>\n",
       "      <td>-0.663928</td>\n",
       "    </tr>\n",
       "    <tr>\n",
       "      <th>2</th>\n",
       "      <td>-0.713566</td>\n",
       "      <td>-0.650047</td>\n",
       "      <td>-0.567060</td>\n",
       "      <td>NaN</td>\n",
       "      <td>2.728243</td>\n",
       "      <td>-0.854826</td>\n",
       "      <td>-0.309881</td>\n",
       "      <td>0.106126</td>\n",
       "      <td>1.864934</td>\n",
       "      <td>0.853474</td>\n",
       "      <td>...</td>\n",
       "      <td>1.351445</td>\n",
       "      <td>0.757921</td>\n",
       "      <td>0.083792</td>\n",
       "      <td>-0.558151</td>\n",
       "      <td>0.158734</td>\n",
       "      <td>-0.592429</td>\n",
       "      <td>0.397953</td>\n",
       "      <td>-0.006230</td>\n",
       "      <td>0.247271</td>\n",
       "      <td>-0.006264</td>\n",
       "    </tr>\n",
       "    <tr>\n",
       "      <th>3</th>\n",
       "      <td>0.544578</td>\n",
       "      <td>1.432512</td>\n",
       "      <td>0.786549</td>\n",
       "      <td>NaN</td>\n",
       "      <td>0.116930</td>\n",
       "      <td>0.890916</td>\n",
       "      <td>-0.836136</td>\n",
       "      <td>-0.791801</td>\n",
       "      <td>2.021920</td>\n",
       "      <td>-0.002218</td>\n",
       "      <td>...</td>\n",
       "      <td>-0.499170</td>\n",
       "      <td>-0.497509</td>\n",
       "      <td>-0.512999</td>\n",
       "      <td>-0.601493</td>\n",
       "      <td>-0.469879</td>\n",
       "      <td>-0.680508</td>\n",
       "      <td>-0.513099</td>\n",
       "      <td>-0.801774</td>\n",
       "      <td>-0.485105</td>\n",
       "      <td>-0.786066</td>\n",
       "    </tr>\n",
       "    <tr>\n",
       "      <th>5</th>\n",
       "      <td>-0.433978</td>\n",
       "      <td>-0.650047</td>\n",
       "      <td>-0.567060</td>\n",
       "      <td>NaN</td>\n",
       "      <td>-0.832638</td>\n",
       "      <td>0.890916</td>\n",
       "      <td>-0.508002</td>\n",
       "      <td>-0.166226</td>\n",
       "      <td>-1.377808</td>\n",
       "      <td>-1.224636</td>\n",
       "      <td>...</td>\n",
       "      <td>1.321620</td>\n",
       "      <td>3.086386</td>\n",
       "      <td>-0.370893</td>\n",
       "      <td>-0.926560</td>\n",
       "      <td>0.017532</td>\n",
       "      <td>-0.915388</td>\n",
       "      <td>-0.373908</td>\n",
       "      <td>-0.988554</td>\n",
       "      <td>0.012969</td>\n",
       "      <td>-0.973969</td>\n",
       "    </tr>\n",
       "  </tbody>\n",
       "</table>\n",
       "<p>5 rows × 36 columns</p>\n",
       "</div>"
      ],
      "text/plain": [
       "        a_0       a_1       a_2  a_3       a_4       a_5       a_6       a_7  \\\n",
       "0 -0.294184 -0.129407 -0.313258  NaN -0.565572  0.192619 -0.836136 -0.993984   \n",
       "1 -0.713566 -0.650047 -0.567060  NaN  1.244543 -0.854826 -0.836136 -0.982091   \n",
       "2 -0.713566 -0.650047 -0.567060  NaN  2.728243 -0.854826 -0.309881  0.106126   \n",
       "3  0.544578  1.432512  0.786549  NaN  0.116930  0.890916 -0.836136 -0.791801   \n",
       "5 -0.433978 -0.650047 -0.567060  NaN -0.832638  0.890916 -0.508002 -0.166226   \n",
       "\n",
       "        a_9      a_10    ...         a_52      a_53      a_54      a_55  \\\n",
       "0 -1.411903 -1.102394    ...    -0.491241 -0.488687  0.630743  3.927769   \n",
       "1  1.126091 -0.613427    ...    -0.473443 -0.549593 -0.445341  0.384542   \n",
       "2  1.864934  0.853474    ...     1.351445  0.757921  0.083792 -0.558151   \n",
       "3  2.021920 -0.002218    ...    -0.499170 -0.497509 -0.512999 -0.601493   \n",
       "5 -1.377808 -1.224636    ...     1.321620  3.086386 -0.370893 -0.926560   \n",
       "\n",
       "       a_56      a_57      a_58      a_59      a_60      a_61  \n",
       "0  0.289888  2.960123  0.685031  3.400778  0.658645  3.000198  \n",
       "1 -0.403439  0.493889 -0.454846 -0.722220 -0.420471 -0.663928  \n",
       "2  0.158734 -0.592429  0.397953 -0.006230  0.247271 -0.006264  \n",
       "3 -0.469879 -0.680508 -0.513099 -0.801774 -0.485105 -0.786066  \n",
       "5  0.017532 -0.915388 -0.373908 -0.988554  0.012969 -0.973969  \n",
       "\n",
       "[5 rows x 36 columns]"
      ]
     },
     "execution_count": 507,
     "metadata": {},
     "output_type": "execute_result"
    }
   ],
   "source": [
    "final_df.head()"
   ]
  },
  {
   "cell_type": "code",
   "execution_count": 508,
   "metadata": {
    "collapsed": false
   },
   "outputs": [
    {
     "data": {
      "text/plain": [
       "a_0        0\n",
       "a_1        0\n",
       "a_2        0\n",
       "a_3     7604\n",
       "a_4        0\n",
       "a_5        0\n",
       "a_6        0\n",
       "a_7        0\n",
       "a_9        0\n",
       "a_10       0\n",
       "a_11       0\n",
       "a_12       0\n",
       "a_13       0\n",
       "a_14       0\n",
       "a_17       0\n",
       "a_18       0\n",
       "a_19       0\n",
       "a_43       0\n",
       "a_44       0\n",
       "a_45       0\n",
       "a_46       0\n",
       "a_47       0\n",
       "a_48       0\n",
       "a_49       0\n",
       "a_50       0\n",
       "a_51       0\n",
       "a_52       0\n",
       "a_53       0\n",
       "a_54       0\n",
       "a_55       0\n",
       "a_56       0\n",
       "a_57       0\n",
       "a_58       0\n",
       "a_59       0\n",
       "a_60       0\n",
       "a_61       0\n",
       "dtype: int64"
      ]
     },
     "execution_count": 508,
     "metadata": {},
     "output_type": "execute_result"
    }
   ],
   "source": [
    "pd.isnull(final_df).sum()"
   ]
  },
  {
   "cell_type": "code",
   "execution_count": 510,
   "metadata": {
    "collapsed": false
   },
   "outputs": [],
   "source": [
    "#Drop column 3 as it's all NaNs\n",
    "del final_df['a_3']"
   ]
  },
  {
   "cell_type": "markdown",
   "metadata": {},
   "source": [
    "### Get Rid of Some Highly Correlated Numeric Features"
   ]
  },
  {
   "cell_type": "code",
   "execution_count": 511,
   "metadata": {
    "collapsed": false
   },
   "outputs": [],
   "source": [
    "correlated_features = final_df.corr().abs().unstack().sort_values(kind='quicksort')"
   ]
  },
  {
   "cell_type": "code",
   "execution_count": 512,
   "metadata": {
    "collapsed": false
   },
   "outputs": [
    {
     "data": {
      "text/plain": [
       "a_46  a_50    0.813926\n",
       "a_49  a_53    0.819986\n",
       "a_10  a_19    0.849858\n",
       "a_46  a_47    0.855052\n",
       "a_48  a_46    0.855803\n",
       "a_10  a_44    0.877717\n",
       "a_52  a_48    0.897303\n",
       "a_48  a_51    0.904920\n",
       "a_52  a_47    0.907277\n",
       "a_56  a_58    0.910397\n",
       "a_44  a_19    0.911133\n",
       "a_47  a_51    0.921512\n",
       "a_56  a_54    0.927464\n",
       "a_58  a_60    0.939764\n",
       "a_55  a_57    0.939891\n",
       "a_54  a_60    0.941297\n",
       "a_14  a_13    0.943940\n",
       "a_61  a_59    0.945212\n",
       "a_60  a_56    0.975133\n",
       "a_52  a_51    0.983736\n",
       "a_48  a_47    0.986846\n",
       "a_58  a_54    0.993094\n",
       "dtype: float64"
      ]
     },
     "execution_count": 512,
     "metadata": {},
     "output_type": "execute_result"
    }
   ],
   "source": [
    "correlated_features[(correlated_features>0.8) & (correlated_features<1.0)][::2]"
   ]
  },
  {
   "cell_type": "code",
   "execution_count": 514,
   "metadata": {
    "collapsed": false
   },
   "outputs": [],
   "source": [
    "correlated_features_to_delete = ['a_58','a_48','a_52','a_60','a_61','a_54','a_55','a_58','a_56','a_47','a_44','a_48','a_10','a_49']"
   ]
  },
  {
   "cell_type": "code",
   "execution_count": 515,
   "metadata": {
    "collapsed": false
   },
   "outputs": [],
   "source": [
    "final_df = final_df.drop(correlated_features_to_delete, axis=1)"
   ]
  },
  {
   "cell_type": "code",
   "execution_count": 516,
   "metadata": {
    "collapsed": false
   },
   "outputs": [],
   "source": [
    "#Recombine with all Categorical Variables\n",
    "final_df = pd.concat([categorical_df.drop(categorical_df.index[outlier_rows]), final_df], axis = 1)"
   ]
  },
  {
   "cell_type": "code",
   "execution_count": 517,
   "metadata": {
    "collapsed": false
   },
   "outputs": [],
   "source": [
    "final_df.insert(0, 'Target', np.where(removed_outliers_df.Target,1,0))"
   ]
  },
  {
   "cell_type": "code",
   "execution_count": 518,
   "metadata": {
    "collapsed": false
   },
   "outputs": [
    {
     "data": {
      "text/html": [
       "<div>\n",
       "<table border=\"1\" class=\"dataframe\">\n",
       "  <thead>\n",
       "    <tr style=\"text-align: right;\">\n",
       "      <th></th>\n",
       "      <th>Target</th>\n",
       "      <th>a_8</th>\n",
       "      <th>a_15</th>\n",
       "      <th>a_16</th>\n",
       "      <th>a_20</th>\n",
       "      <th>a_21</th>\n",
       "      <th>a_22</th>\n",
       "      <th>a_23</th>\n",
       "      <th>a_24</th>\n",
       "      <th>a_25</th>\n",
       "      <th>...</th>\n",
       "      <th>a_18</th>\n",
       "      <th>a_19</th>\n",
       "      <th>a_43</th>\n",
       "      <th>a_45</th>\n",
       "      <th>a_46</th>\n",
       "      <th>a_50</th>\n",
       "      <th>a_51</th>\n",
       "      <th>a_53</th>\n",
       "      <th>a_57</th>\n",
       "      <th>a_59</th>\n",
       "    </tr>\n",
       "  </thead>\n",
       "  <tbody>\n",
       "    <tr>\n",
       "      <th>0</th>\n",
       "      <td>1</td>\n",
       "      <td>0.0</td>\n",
       "      <td>0.0</td>\n",
       "      <td>0.0</td>\n",
       "      <td>0</td>\n",
       "      <td>0</td>\n",
       "      <td>0</td>\n",
       "      <td>0</td>\n",
       "      <td>0</td>\n",
       "      <td>0</td>\n",
       "      <td>...</td>\n",
       "      <td>-0.646476</td>\n",
       "      <td>-1.254426</td>\n",
       "      <td>0.690978</td>\n",
       "      <td>-0.516532</td>\n",
       "      <td>-0.406538</td>\n",
       "      <td>-0.272791</td>\n",
       "      <td>-0.510014</td>\n",
       "      <td>-0.488687</td>\n",
       "      <td>2.960123</td>\n",
       "      <td>3.400778</td>\n",
       "    </tr>\n",
       "    <tr>\n",
       "      <th>1</th>\n",
       "      <td>0</td>\n",
       "      <td>0.0</td>\n",
       "      <td>0.0</td>\n",
       "      <td>0.0</td>\n",
       "      <td>0</td>\n",
       "      <td>0</td>\n",
       "      <td>0</td>\n",
       "      <td>0</td>\n",
       "      <td>0</td>\n",
       "      <td>1</td>\n",
       "      <td>...</td>\n",
       "      <td>-0.613894</td>\n",
       "      <td>-0.901394</td>\n",
       "      <td>-0.682628</td>\n",
       "      <td>-0.833181</td>\n",
       "      <td>-0.363577</td>\n",
       "      <td>-0.380612</td>\n",
       "      <td>-0.521355</td>\n",
       "      <td>-0.549593</td>\n",
       "      <td>0.493889</td>\n",
       "      <td>-0.722220</td>\n",
       "    </tr>\n",
       "    <tr>\n",
       "      <th>2</th>\n",
       "      <td>0</td>\n",
       "      <td>0.0</td>\n",
       "      <td>0.0</td>\n",
       "      <td>0.0</td>\n",
       "      <td>0</td>\n",
       "      <td>0</td>\n",
       "      <td>0</td>\n",
       "      <td>0</td>\n",
       "      <td>0</td>\n",
       "      <td>1</td>\n",
       "      <td>...</td>\n",
       "      <td>-0.489597</td>\n",
       "      <td>0.687249</td>\n",
       "      <td>-0.835251</td>\n",
       "      <td>-0.833181</td>\n",
       "      <td>0.690957</td>\n",
       "      <td>1.152831</td>\n",
       "      <td>1.360622</td>\n",
       "      <td>0.757921</td>\n",
       "      <td>-0.592429</td>\n",
       "      <td>-0.006230</td>\n",
       "    </tr>\n",
       "    <tr>\n",
       "      <th>3</th>\n",
       "      <td>0</td>\n",
       "      <td>1.0</td>\n",
       "      <td>0.0</td>\n",
       "      <td>0.0</td>\n",
       "      <td>0</td>\n",
       "      <td>0</td>\n",
       "      <td>0</td>\n",
       "      <td>0</td>\n",
       "      <td>0</td>\n",
       "      <td>1</td>\n",
       "      <td>...</td>\n",
       "      <td>-0.343851</td>\n",
       "      <td>-0.636620</td>\n",
       "      <td>0.233109</td>\n",
       "      <td>1.383360</td>\n",
       "      <td>-0.372150</td>\n",
       "      <td>-0.228122</td>\n",
       "      <td>-0.515983</td>\n",
       "      <td>-0.497509</td>\n",
       "      <td>-0.680508</td>\n",
       "      <td>-0.801774</td>\n",
       "    </tr>\n",
       "    <tr>\n",
       "      <th>5</th>\n",
       "      <td>0</td>\n",
       "      <td>0.0</td>\n",
       "      <td>0.0</td>\n",
       "      <td>0.0</td>\n",
       "      <td>0</td>\n",
       "      <td>0</td>\n",
       "      <td>0</td>\n",
       "      <td>0</td>\n",
       "      <td>1</td>\n",
       "      <td>1</td>\n",
       "      <td>...</td>\n",
       "      <td>-0.132084</td>\n",
       "      <td>-0.901394</td>\n",
       "      <td>0.233109</td>\n",
       "      <td>-0.516532</td>\n",
       "      <td>-0.374561</td>\n",
       "      <td>-0.231253</td>\n",
       "      <td>1.219174</td>\n",
       "      <td>3.086386</td>\n",
       "      <td>-0.915388</td>\n",
       "      <td>-0.988554</td>\n",
       "    </tr>\n",
       "  </tbody>\n",
       "</table>\n",
       "<p>5 rows × 50 columns</p>\n",
       "</div>"
      ],
      "text/plain": [
       "   Target  a_8  a_15  a_16  a_20  a_21  a_22  a_23  a_24  a_25    ...     \\\n",
       "0       1  0.0   0.0   0.0     0     0     0     0     0     0    ...      \n",
       "1       0  0.0   0.0   0.0     0     0     0     0     0     1    ...      \n",
       "2       0  0.0   0.0   0.0     0     0     0     0     0     1    ...      \n",
       "3       0  1.0   0.0   0.0     0     0     0     0     0     1    ...      \n",
       "5       0  0.0   0.0   0.0     0     0     0     0     1     1    ...      \n",
       "\n",
       "       a_18      a_19      a_43      a_45      a_46      a_50      a_51  \\\n",
       "0 -0.646476 -1.254426  0.690978 -0.516532 -0.406538 -0.272791 -0.510014   \n",
       "1 -0.613894 -0.901394 -0.682628 -0.833181 -0.363577 -0.380612 -0.521355   \n",
       "2 -0.489597  0.687249 -0.835251 -0.833181  0.690957  1.152831  1.360622   \n",
       "3 -0.343851 -0.636620  0.233109  1.383360 -0.372150 -0.228122 -0.515983   \n",
       "5 -0.132084 -0.901394  0.233109 -0.516532 -0.374561 -0.231253  1.219174   \n",
       "\n",
       "       a_53      a_57      a_59  \n",
       "0 -0.488687  2.960123  3.400778  \n",
       "1 -0.549593  0.493889 -0.722220  \n",
       "2  0.757921 -0.592429 -0.006230  \n",
       "3 -0.497509 -0.680508 -0.801774  \n",
       "5  3.086386 -0.915388 -0.988554  \n",
       "\n",
       "[5 rows x 50 columns]"
      ]
     },
     "execution_count": 518,
     "metadata": {},
     "output_type": "execute_result"
    }
   ],
   "source": [
    "final_df.head()"
   ]
  },
  {
   "cell_type": "markdown",
   "metadata": {},
   "source": [
    "### Upsample Minority Class"
   ]
  },
  {
   "cell_type": "code",
   "execution_count": 519,
   "metadata": {
    "collapsed": true
   },
   "outputs": [],
   "source": [
    "df_final_np = final_df.values"
   ]
  },
  {
   "cell_type": "code",
   "execution_count": 520,
   "metadata": {
    "collapsed": false
   },
   "outputs": [
    {
     "data": {
      "text/plain": [
       "(7604, 50)"
      ]
     },
     "execution_count": 520,
     "metadata": {},
     "output_type": "execute_result"
    }
   ],
   "source": [
    "#UP-SAMPLING APPROACH - OVER-SAMPLE THE MINORITY CLASS to 50/50\n",
    "#Resample to take care of class imbalance issue\n",
    "retained_rows = np.where(df_final_np[:,0]==1.0)[0]\n",
    "churned_rows = np.where(df_final_np[:,0]==0.0)[0]\n",
    "\n",
    "churned_percentage = 0.50\n",
    "churned_sample_size = int(df_final_np.shape[0] * churned_percentage)\n",
    "retained_sample_size = int(df_final_np.shape[0] * (1 - churned_percentage))\n",
    "\n",
    "sampled_churned_rows = np.random.choice(churned_rows, churned_sample_size, replace=False)\n",
    "sampled_retained_rows = np.random.choice(retained_rows, retained_sample_size, replace=True)\n",
    "\n",
    "df_upsampled_final = np.concatenate((df_final_np[sampled_churned_rows], df_final_np[sampled_retained_rows]), axis=0)\n",
    "\n",
    "X_final_np = df_upsampled_final[:,1:]\n",
    "Y_final_np = df_upsampled_final[:,0]\n",
    "df_upsampled_final.shape"
   ]
  },
  {
   "cell_type": "code",
   "execution_count": 521,
   "metadata": {
    "collapsed": false
   },
   "outputs": [
    {
     "data": {
      "text/plain": [
       "0.5"
      ]
     },
     "execution_count": 521,
     "metadata": {},
     "output_type": "execute_result"
    }
   ],
   "source": [
    "Y_final_np.sum() * 1.0 / Y_final_np.shape[0]"
   ]
  },
  {
   "cell_type": "code",
   "execution_count": 522,
   "metadata": {
    "collapsed": false
   },
   "outputs": [
    {
     "data": {
      "text/plain": [
       "(7604, 49)"
      ]
     },
     "execution_count": 522,
     "metadata": {},
     "output_type": "execute_result"
    }
   ],
   "source": [
    "X_final_np.shape"
   ]
  },
  {
   "cell_type": "code",
   "execution_count": 523,
   "metadata": {
    "collapsed": false
   },
   "outputs": [
    {
     "data": {
      "text/plain": [
       "(7604,)"
      ]
     },
     "execution_count": 523,
     "metadata": {},
     "output_type": "execute_result"
    }
   ],
   "source": [
    "Y_final_np.shape"
   ]
  },
  {
   "cell_type": "code",
   "execution_count": 524,
   "metadata": {
    "collapsed": false
   },
   "outputs": [
    {
     "name": "stdout",
     "output_type": "stream",
     "text": [
      "0\n",
      "0\n"
     ]
    }
   ],
   "source": [
    "print np.isinf(X_final_np).sum().sum()\n",
    "print np.isnan(X_final_np).sum().sum()"
   ]
  },
  {
   "cell_type": "markdown",
   "metadata": {},
   "source": [
    "### Train a Forward Stepwise Selection Logistic Regression Model for 5 Features"
   ]
  },
  {
   "cell_type": "code",
   "execution_count": 525,
   "metadata": {
    "collapsed": false
   },
   "outputs": [],
   "source": [
    "features_name_in_model = list(final_df.columns[1:])"
   ]
  },
  {
   "cell_type": "code",
   "execution_count": 526,
   "metadata": {
    "collapsed": false
   },
   "outputs": [],
   "source": [
    "features = dict()\n",
    "for k, v in enumerate(features_name_in_model):\n",
    "    features[k] = np.array([item[k] for item in X_final_np])"
   ]
  },
  {
   "cell_type": "code",
   "execution_count": 527,
   "metadata": {
    "collapsed": false
   },
   "outputs": [
    {
     "name": "stdout",
     "output_type": "stream",
     "text": [
      "Best AUC score from selected 5 best features using forward stepwise selection: 0.698\n"
     ]
    }
   ],
   "source": [
    "model = LogisticRegression(C=1e10) #Set cost parameter very high to achieve no regularization\n",
    "best_features = []\n",
    "best_auc = 0\n",
    "\n",
    "#Get first best feature\n",
    "for key, X in features.iteritems():\n",
    "    auc_score = cross_validation.cross_val_score(model, np.reshape(X, (X.shape[0],1)), Y_final_np, cv=5, scoring='roc_auc').mean()\n",
    "    if auc_score > best_auc: best_first_feature = key\n",
    "    \n",
    "best_features.append(best_first_feature)\n",
    "new_best_set = features[best_first_feature]\n",
    "\n",
    "#Add additional 4 features to get 5 best features\n",
    "#Don't know how to combine the first feature into this loop because of the np.reshape thing: need to refactor\n",
    "for i in xrange(4):\n",
    "    best_auc = 0\n",
    "    for key, X in features.iteritems():\n",
    "        if key not in best_features:\n",
    "            auc_score = cross_validation.cross_val_score(model, np.column_stack((features[key], new_best_set)), Y_final_np, cv=5, scoring='roc_auc').mean()\n",
    "            if auc_score > best_auc: \n",
    "                best_current_feature = key\n",
    "                best_auc_score = auc_score\n",
    "    best_features.append(best_current_feature)\n",
    "    new_best_set = np.column_stack((features[best_current_feature], new_best_set))\n",
    "    \n",
    "print \"Best AUC score from selected 5 best features using forward stepwise selection: %.3f\" % best_auc_score"
   ]
  },
  {
   "cell_type": "code",
   "execution_count": 528,
   "metadata": {
    "collapsed": false
   },
   "outputs": [],
   "source": [
    "X = new_best_set\n",
    "Y = Y_final_np\n",
    "forward_stepwise_model = LogisticRegression(C=1e10).fit(X,Y)\n",
    "forward_stepwise_features = list(np.array(features_name_in_model)[best_features])"
   ]
  },
  {
   "cell_type": "code",
   "execution_count": 529,
   "metadata": {
    "collapsed": false
   },
   "outputs": [
    {
     "name": "stdout",
     "output_type": "stream",
     "text": [
      "Names of best 5 feaures from forward-stepwise selection: ['a_59', 'a_57', 'a_53', 'a_51', 'a_50']\n"
     ]
    }
   ],
   "source": [
    "print 'Names of best 5 feaures from forward-stepwise selection:', forward_stepwise_features"
   ]
  },
  {
   "cell_type": "code",
   "execution_count": null,
   "metadata": {
    "collapsed": true
   },
   "outputs": [],
   "source": []
  },
  {
   "cell_type": "markdown",
   "metadata": {},
   "source": [
    "### Score the val.csv Data Using the Forward-Stepwise Selection Logistic Model"
   ]
  },
  {
   "cell_type": "code",
   "execution_count": 543,
   "metadata": {
    "collapsed": false
   },
   "outputs": [],
   "source": [
    "val_df = pd.read_csv('val.csv').head()"
   ]
  },
  {
   "cell_type": "code",
   "execution_count": 544,
   "metadata": {
    "collapsed": true
   },
   "outputs": [],
   "source": [
    "##Standardize values in test file using same standard deviations/means for the respective features as in training model\n",
    "test_df = pd.DataFrame()\n",
    "for feature in forward_stepwise_features:\n",
    "    test_df[feature] = (val_df[feature] - mean_sd_numeric_features_from_model[feature][0]) / mean_sd_numeric_features_from_model[feature][1]"
   ]
  },
  {
   "cell_type": "code",
   "execution_count": 545,
   "metadata": {
    "collapsed": false
   },
   "outputs": [
    {
     "data": {
      "text/html": [
       "<div>\n",
       "<table border=\"1\" class=\"dataframe\">\n",
       "  <thead>\n",
       "    <tr style=\"text-align: right;\">\n",
       "      <th></th>\n",
       "      <th>a_59</th>\n",
       "      <th>a_57</th>\n",
       "      <th>a_53</th>\n",
       "      <th>a_51</th>\n",
       "      <th>a_50</th>\n",
       "    </tr>\n",
       "  </thead>\n",
       "  <tbody>\n",
       "    <tr>\n",
       "      <th>0</th>\n",
       "      <td>-0.566570</td>\n",
       "      <td>-0.240109</td>\n",
       "      <td>0.771308</td>\n",
       "      <td>-0.279482</td>\n",
       "      <td>-0.231075</td>\n",
       "    </tr>\n",
       "    <tr>\n",
       "      <th>1</th>\n",
       "      <td>-0.289859</td>\n",
       "      <td>0.552609</td>\n",
       "      <td>0.850891</td>\n",
       "      <td>1.585448</td>\n",
       "      <td>0.834622</td>\n",
       "    </tr>\n",
       "    <tr>\n",
       "      <th>2</th>\n",
       "      <td>7.115626</td>\n",
       "      <td>4.017081</td>\n",
       "      <td>-0.102863</td>\n",
       "      <td>-0.382646</td>\n",
       "      <td>-0.234226</td>\n",
       "    </tr>\n",
       "    <tr>\n",
       "      <th>3</th>\n",
       "      <td>0.443426</td>\n",
       "      <td>0.024130</td>\n",
       "      <td>0.153331</td>\n",
       "      <td>-0.437949</td>\n",
       "      <td>-0.745911</td>\n",
       "    </tr>\n",
       "    <tr>\n",
       "      <th>4</th>\n",
       "      <td>0.498768</td>\n",
       "      <td>-0.210750</td>\n",
       "      <td>0.450344</td>\n",
       "      <td>0.121875</td>\n",
       "      <td>-0.206606</td>\n",
       "    </tr>\n",
       "  </tbody>\n",
       "</table>\n",
       "</div>"
      ],
      "text/plain": [
       "       a_59      a_57      a_53      a_51      a_50\n",
       "0 -0.566570 -0.240109  0.771308 -0.279482 -0.231075\n",
       "1 -0.289859  0.552609  0.850891  1.585448  0.834622\n",
       "2  7.115626  4.017081 -0.102863 -0.382646 -0.234226\n",
       "3  0.443426  0.024130  0.153331 -0.437949 -0.745911\n",
       "4  0.498768 -0.210750  0.450344  0.121875 -0.206606"
      ]
     },
     "execution_count": 545,
     "metadata": {},
     "output_type": "execute_result"
    }
   ],
   "source": [
    "#Use only 5 features used in the model\n",
    "X_testdata = test_df[forward_stepwise_features]\n",
    "X_testdata.head()"
   ]
  },
  {
   "cell_type": "code",
   "execution_count": 546,
   "metadata": {
    "collapsed": false
   },
   "outputs": [],
   "source": [
    "pd.DataFrame([proba[1] for proba in forward_stepwise_model.predict_proba(X_testdata)]).to_csv('val_proba.csv', header=False, index=False)"
   ]
  },
  {
   "cell_type": "code",
   "execution_count": null,
   "metadata": {
    "collapsed": false
   },
   "outputs": [],
   "source": []
  },
  {
   "cell_type": "markdown",
   "metadata": {},
   "source": [
    "### Regularized Logistic Regression with ALL features"
   ]
  },
  {
   "cell_type": "code",
   "execution_count": 539,
   "metadata": {
    "collapsed": true
   },
   "outputs": [],
   "source": [
    "#Setting up K-fold CV function:\n",
    "def run_cv(X,y,clf_class,**kwargs):\n",
    "    # Construct a kfolds object\n",
    "    # kf = KFold(len(y),n_folds=4,shuffle=True)\n",
    "    #Stretified KFold preserves the class balance in the training and test samples\n",
    "    #Better for when there's a class imbalance and after up/down-sampling\n",
    "    kf = StratifiedKFold(y, n_folds=5)\n",
    "    \n",
    "    y_pred = y.copy()\n",
    "    \n",
    "    # Iterate through folds\n",
    "    for train_index, test_index in kf:\n",
    "        X_train, X_test = X[train_index], X[test_index]\n",
    "        y_train = y[train_index]\n",
    "        # Initialize a classifier with key word arguments\n",
    "        clf = clf_class(**kwargs)\n",
    "        clf.fit(X_train,y_train)\n",
    "        y_pred[test_index] = clf.predict(X_test)\n",
    "    return y_pred, clf"
   ]
  },
  {
   "cell_type": "code",
   "execution_count": 540,
   "metadata": {
    "collapsed": true
   },
   "outputs": [],
   "source": [
    "def accuracy(y_true,y_pred):\n",
    "    return np.mean(y_true == y_pred)"
   ]
  },
  {
   "cell_type": "code",
   "execution_count": 541,
   "metadata": {
    "collapsed": false,
    "scrolled": true
   },
   "outputs": [
    {
     "name": "stdout",
     "output_type": "stream",
     "text": [
      "Logistic Regression:\n",
      "AUC Score: 0.711\n"
     ]
    }
   ],
   "source": [
    "print \"Logistic Regression:\"\n",
    "y_pred, logit_model = run_cv(X_final_np, Y_final_np, LogisticRegression,\n",
    "                        C = 0.1,\n",
    "                        penalty='l1'\n",
    "                    )\n",
    "\n",
    "print \"AUC Score: %.3f\" % metrics.roc_auc_score(Y_final_np, y_pred)"
   ]
  },
  {
   "cell_type": "code",
   "execution_count": 542,
   "metadata": {
    "collapsed": false
   },
   "outputs": [
    {
     "data": {
      "text/plain": [
       "[('a_34', 0.19335063464368893),\n",
       " ('a_5', 0.19310643909889116),\n",
       " ('a_40', 0.10034661054230476),\n",
       " ('a_6', 0.099509836845179403),\n",
       " ('a_7', 0.076268474849185239),\n",
       " ('a_28', 0.061910556624513141),\n",
       " ('a_51', 0.059102480084502959),\n",
       " ('a_30', 0.058858521702120137),\n",
       " ('a_0', 0.037858649018232542),\n",
       " ('a_11', 0.024160449547017775),\n",
       " ('a_57', 0.0043182036941185539),\n",
       " ('a_8', 0.0022758205233288425)]"
      ]
     },
     "execution_count": 542,
     "metadata": {},
     "output_type": "execute_result"
    }
   ],
   "source": [
    "import operator\n",
    "logistic_dict = dict((k, v) for k, v in dict(zip(final_df.columns[1:],logit_model.coef_[0])).items() if v > 0)\n",
    "sorted(logistic_dict.items(), key=operator.itemgetter(1), reverse=True)"
   ]
  },
  {
   "cell_type": "markdown",
   "metadata": {},
   "source": [
    "### Other reusable codes"
   ]
  },
  {
   "cell_type": "code",
   "execution_count": null,
   "metadata": {
    "collapsed": true
   },
   "outputs": [],
   "source": []
  },
  {
   "cell_type": "code",
   "execution_count": null,
   "metadata": {
    "collapsed": true
   },
   "outputs": [],
   "source": []
  },
  {
   "cell_type": "code",
   "execution_count": null,
   "metadata": {
    "collapsed": true
   },
   "outputs": [],
   "source": [
    "def plot_ROC_curve(classifier, X, y, pos_label=1, n_folds=5):\n",
    "    mean_tpr = 0.0\n",
    "    mean_fpr = np.linspace(0, 1, 100)\n",
    "    all_tpr = []\n",
    "    for i, (train, test) in enumerate(StratifiedKFold(y, n_folds=n_folds)):\n",
    "        probas_ = classifier.fit(X[train], y[train]).predict_proba(X[test])\n",
    "        # Compute ROC curve and area under the curve\n",
    "        fpr, tpr, thresholds = roc_curve(y[test], probas_[:, 1], pos_label=1)\n",
    "        mean_tpr += interp(mean_fpr, fpr, tpr)\n",
    "        mean_tpr[0] = 0.0\n",
    "        roc_auc = auc(fpr, tpr)\n",
    "        plt.plot(fpr, tpr, lw=1, label='ROC fold %d (area = %0.2f)' % (i, roc_auc))\n",
    "    plt.plot([0, 1], [0, 1], '--', color=(0.6, 0.6, 0.6), label='Random')\n",
    "    mean_tpr /= n_folds\n",
    "    mean_tpr[-1] = 1.0\n",
    "    mean_auc = auc(mean_fpr, mean_tpr)\n",
    "    plt.plot(mean_fpr, mean_tpr, 'k--',\n",
    "         label='Mean ROC (area = %0.2f)' % mean_auc, lw=2)\n",
    "    plt.xlim([-0.05, 1.05])\n",
    "    plt.ylim([-0.05, 1.05])\n",
    "    plt.xlabel('False Positive Rate')\n",
    "    plt.ylabel('True Positive Rate')\n",
    "    plt.title('Receiver operating characteristic example')\n",
    "    plt.legend(loc=\"lower right\")\n",
    "    plt.show()"
   ]
  },
  {
   "cell_type": "code",
   "execution_count": null,
   "metadata": {
    "collapsed": true
   },
   "outputs": [],
   "source": [
    "def plot_PR_curve(classifier, X, y, n_folds=5):\n",
    "    \"\"\"\n",
    "    Plot a basic precision/recall curve.\n",
    "    \"\"\"\n",
    "    for i, (train, test) in enumerate(StratifiedKFold(y, n_folds=n_folds)):\n",
    "        probas_ = classifier.fit(X[train], y[train]).predict_proba(X[test])\n",
    "        # Compute ROC curve and area the curve\n",
    "        precision, recall, thresholds = precision_recall_curve(y[test], probas_[:, 1],\n",
    "                                                               pos_label=1)\n",
    "        plt.plot(recall, precision, lw=1, label='PR fold %d' % (i,))\n",
    "   #  clf_name = str(type(classifier))\n",
    "   # clf_name = clf_name[clf_name.rindex('.')+1:]\n",
    "    plt.xlim([-0.05, 1.05])\n",
    "    plt.ylim([-0.05, 1.05])\n",
    "    plt.xlabel('Recall')\n",
    "    plt.ylabel('Precision')\n",
    "    plt.title('Precision-recall curve')\n",
    "    plt.legend(loc=\"lower right\")\n",
    "    plt.show()"
   ]
  },
  {
   "cell_type": "code",
   "execution_count": null,
   "metadata": {
    "collapsed": true
   },
   "outputs": [],
   "source": [
    "clf = DecisionTreeClassifier(min_samples_leaf=5)\n",
    "predicted = cross_validation.cross_val_predict(clf, covtype.data, covtype.target, cv=5)\n",
    "metrics.accuracy_score(covtype.target, predicted) "
   ]
  },
  {
   "cell_type": "code",
   "execution_count": null,
   "metadata": {
    "collapsed": true
   },
   "outputs": [],
   "source": []
  },
  {
   "cell_type": "code",
   "execution_count": null,
   "metadata": {
    "collapsed": true
   },
   "outputs": [],
   "source": [
    "#Histograms with keyword arguments\n",
    "\n",
    "x = np.random.normal(0, 0.8, 1000)\n",
    "y = np.random.normal(-2, 1, 1000)\n",
    "\n",
    "\n",
    "kwargs = dict(histtype='stepfilled', alpha=0.3, normed=True, bins=50)\n",
    "\n",
    "plt.hist(x, label='Retained', **kwargs)\n",
    "plt.hist(y, label='Churned', **kwargs)\n",
    "\n",
    "plt.title(\"Histogram of 'trips_in_first_30_days' by Churned/Retained Customers\", fontsize=12)\n",
    "plt.legend(loc='upper right')\n",
    "# plt.xlim(0,30)\n",
    "plt.show();"
   ]
  },
  {
   "cell_type": "code",
   "execution_count": null,
   "metadata": {
    "collapsed": true
   },
   "outputs": [],
   "source": []
  },
  {
   "cell_type": "code",
   "execution_count": null,
   "metadata": {
    "collapsed": true
   },
   "outputs": [],
   "source": []
  }
 ],
 "metadata": {
  "kernelspec": {
   "display_name": "Python 2",
   "language": "python",
   "name": "python2"
  },
  "language_info": {
   "codemirror_mode": {
    "name": "ipython",
    "version": 2
   },
   "file_extension": ".py",
   "mimetype": "text/x-python",
   "name": "python",
   "nbconvert_exporter": "python",
   "pygments_lexer": "ipython2",
   "version": "2.7"
  }
 },
 "nbformat": 4,
 "nbformat_minor": 0
}
